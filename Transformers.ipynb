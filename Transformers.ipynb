{
  "nbformat": 4,
  "nbformat_minor": 0,
  "metadata": {
    "colab": {
      "provenance": []
    },
    "kernelspec": {
      "name": "python3",
      "display_name": "Python 3"
    },
    "language_info": {
      "name": "python"
    },
    "accelerator": "GPU",
    "gpuClass": "standard"
  },
  "cells": [
    {
      "cell_type": "markdown",
      "source": [
        "# Hugging Face Transformers"
      ],
      "metadata": {
        "id": "6XVYYrVUqQxm"
      }
    },
    {
      "cell_type": "code",
      "source": [
        "## Colab Stuff\n",
        "\n",
        "# from google.colab import drive\n",
        "# drive.mount('/content/drive')\n",
        "#import os\n",
        "#os.listdir(\"./drive/MyDrive/img\")"
      ],
      "metadata": {
        "colab": {
          "base_uri": "https://localhost:8080/"
        },
        "id": "TyOxCi9hDmmd",
        "outputId": "e900c3bf-b22c-45d2-8f5a-42c053808505"
      },
      "execution_count": 1,
      "outputs": [
        {
          "output_type": "stream",
          "name": "stdout",
          "text": [
            "Drive already mounted at /content/drive; to attempt to forcibly remount, call drive.mount(\"/content/drive\", force_remount=True).\n"
          ]
        }
      ]
    },
    {
      "cell_type": "code",
      "source": [
        "!pip install transformers\n",
        "!pip install datasets"
      ],
      "metadata": {
        "id": "hBA1mzmXqIIE"
      },
      "execution_count": null,
      "outputs": []
    },
    {
      "cell_type": "code",
      "source": [
        "import requests\n",
        "from PIL import Image\n",
        "from transformers import pipeline"
      ],
      "metadata": {
        "id": "_IFB6Qg0nuxv"
      },
      "execution_count": 15,
      "outputs": []
    },
    {
      "cell_type": "code",
      "source": [
        "classifier = pipeline(task=\"image-classification\", model=\"google/vit-base-patch16-224\")"
      ],
      "metadata": {
        "id": "nwtyIq68qU1X"
      },
      "execution_count": 11,
      "outputs": []
    },
    {
      "cell_type": "code",
      "source": [
        "input = Image.open(\"./drive/MyDrive/img/index.jpg\")\n",
        "res = classifier(input, top_k=10)\n",
        "print(res)"
      ],
      "metadata": {
        "colab": {
          "base_uri": "https://localhost:8080/"
        },
        "id": "kTmGkwajnBx8",
        "outputId": "d8084971-1e2a-404d-b2ef-ccac24d04cc8"
      },
      "execution_count": 13,
      "outputs": [
        {
          "output_type": "stream",
          "name": "stdout",
          "text": [
            "[{'score': 0.45860227942466736, 'label': 'golden retriever'}, {'score': 0.17854149639606476, 'label': 'Brittany spaniel'}, {'score': 0.09807293862104416, 'label': 'Labrador retriever'}, {'score': 0.0728541687130928, 'label': 'Chesapeake Bay retriever'}, {'score': 0.029058562591671944, 'label': 'Sussex spaniel'}, {'score': 0.027053728699684143, 'label': 'vizsla, Hungarian pointer'}, {'score': 0.009685504250228405, 'label': 'Irish setter, red setter'}, {'score': 0.009620263241231441, 'label': 'curly-coated retriever'}, {'score': 0.006236134096980095, 'label': 'flat-coated retriever'}, {'score': 0.00573175773024559, 'label': 'tennis ball'}]\n"
          ]
        }
      ]
    },
    {
      "cell_type": "code",
      "source": [
        "response = requests.get(\"https://picsum.photos/200/300\", stream=True)\n",
        "input = Image.open(response.raw)\n",
        "res = classifier(input, top_k=10)\n",
        "print(res)"
      ],
      "metadata": {
        "colab": {
          "base_uri": "https://localhost:8080/"
        },
        "id": "kLxBY8tpnRLv",
        "outputId": "f465dbda-000e-43d7-de54-12d2f74fd987"
      },
      "execution_count": 17,
      "outputs": [
        {
          "output_type": "stream",
          "name": "stdout",
          "text": [
            "[{'score': 0.2453429400920868, 'label': 'lakeside, lakeshore'}, {'score': 0.05464868247509003, 'label': 'sarong'}, {'score': 0.04305621236562729, 'label': 'seashore, coast, seacoast, sea-coast'}, {'score': 0.040862616151571274, 'label': 'bikini, two-piece'}, {'score': 0.039045486599206924, 'label': 'sunglass'}, {'score': 0.033439360558986664, 'label': 'miniskirt, mini'}, {'score': 0.025849955156445503, 'label': 'maillot'}, {'score': 0.023016875609755516, 'label': 'sandbar, sand bar'}, {'score': 0.020269159227609634, 'label': 'maillot, tank suit'}, {'score': 0.014261447824537754, 'label': 'gown'}]\n"
          ]
        }
      ]
    }
  ]
}